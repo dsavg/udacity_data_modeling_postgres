{
 "cells": [
  {
   "cell_type": "code",
   "execution_count": 2,
   "metadata": {},
   "outputs": [],
   "source": [
    "import os\n",
    "import glob\n",
    "import psycopg2\n",
    "import pandas as pd\n",
    "import seaborn as sns\n",
    "from sql_queries import *\n",
    "from matplotlib import pyplot as plt"
   ]
  },
  {
   "cell_type": "code",
   "execution_count": 3,
   "metadata": {},
   "outputs": [],
   "source": [
    "conn = psycopg2.connect(\"host=127.0.0.1 dbname=sparkifydb user=student password=student\")\n",
    "cur = conn.cursor()"
   ]
  },
  {
   "cell_type": "code",
   "execution_count": 4,
   "metadata": {},
   "outputs": [
    {
     "name": "stderr",
     "output_type": "stream",
     "text": [
      "<ipython-input-4-a47a4c8fd5e1>:11: UserWarning: pandas only supports SQLAlchemy connectable (engine/connection) or database string URI or sqlite3 DBAPI2 connection. Other DBAPI2 objects are not tested. Please consider using SQLAlchemy.\n",
      "  songplays = pd.read_sql(query, conn, index_col='songplay_id')\n"
     ]
    }
   ],
   "source": [
    "query = \"\"\"\n",
    "SELECT songplays.songplay_id, songplays.start_time, hour, day, week, month, year, weekday, \n",
    "songplays.user_id, songplays.level, location, user_agent, gender\n",
    "FROM songplays\n",
    "JOIN users \n",
    "ON songplays.user_id = users.user_id\n",
    "JOIN time \n",
    "ON songplays.start_time = time.start_time\n",
    "\"\"\"\n",
    "\n",
    "songplays = pd.read_sql(query, conn, index_col='songplay_id')"
   ]
  },
  {
   "cell_type": "code",
   "execution_count": 5,
   "metadata": {},
   "outputs": [
    {
     "data": {
      "text/html": [
       "<div>\n",
       "<style scoped>\n",
       "    .dataframe tbody tr th:only-of-type {\n",
       "        vertical-align: middle;\n",
       "    }\n",
       "\n",
       "    .dataframe tbody tr th {\n",
       "        vertical-align: top;\n",
       "    }\n",
       "\n",
       "    .dataframe thead th {\n",
       "        text-align: right;\n",
       "    }\n",
       "</style>\n",
       "<table border=\"1\" class=\"dataframe\">\n",
       "  <thead>\n",
       "    <tr style=\"text-align: right;\">\n",
       "      <th></th>\n",
       "      <th>start_time</th>\n",
       "      <th>hour</th>\n",
       "      <th>day</th>\n",
       "      <th>week</th>\n",
       "      <th>month</th>\n",
       "      <th>year</th>\n",
       "      <th>weekday</th>\n",
       "      <th>user_id</th>\n",
       "      <th>level</th>\n",
       "      <th>location</th>\n",
       "      <th>user_agent</th>\n",
       "      <th>gender</th>\n",
       "    </tr>\n",
       "    <tr>\n",
       "      <th>songplay_id</th>\n",
       "      <th></th>\n",
       "      <th></th>\n",
       "      <th></th>\n",
       "      <th></th>\n",
       "      <th></th>\n",
       "      <th></th>\n",
       "      <th></th>\n",
       "      <th></th>\n",
       "      <th></th>\n",
       "      <th></th>\n",
       "      <th></th>\n",
       "      <th></th>\n",
       "    </tr>\n",
       "  </thead>\n",
       "  <tbody>\n",
       "    <tr>\n",
       "      <th>1</th>\n",
       "      <td>2018-11-11 02:33:56.796</td>\n",
       "      <td>2</td>\n",
       "      <td>11</td>\n",
       "      <td>45</td>\n",
       "      <td>11</td>\n",
       "      <td>2018</td>\n",
       "      <td>6</td>\n",
       "      <td>69</td>\n",
       "      <td>free</td>\n",
       "      <td>Philadelphia-Camden-Wilmington, PA-NJ-DE-MD</td>\n",
       "      <td>\"Mozilla/5.0 (Macintosh; Intel Mac OS X 10_9_4...</td>\n",
       "      <td>F</td>\n",
       "    </tr>\n",
       "    <tr>\n",
       "      <th>2</th>\n",
       "      <td>2018-11-11 02:36:10.796</td>\n",
       "      <td>2</td>\n",
       "      <td>11</td>\n",
       "      <td>45</td>\n",
       "      <td>11</td>\n",
       "      <td>2018</td>\n",
       "      <td>6</td>\n",
       "      <td>69</td>\n",
       "      <td>free</td>\n",
       "      <td>Philadelphia-Camden-Wilmington, PA-NJ-DE-MD</td>\n",
       "      <td>\"Mozilla/5.0 (Macintosh; Intel Mac OS X 10_9_4...</td>\n",
       "      <td>F</td>\n",
       "    </tr>\n",
       "    <tr>\n",
       "      <th>3</th>\n",
       "      <td>2018-11-11 02:40:34.796</td>\n",
       "      <td>2</td>\n",
       "      <td>11</td>\n",
       "      <td>45</td>\n",
       "      <td>11</td>\n",
       "      <td>2018</td>\n",
       "      <td>6</td>\n",
       "      <td>69</td>\n",
       "      <td>free</td>\n",
       "      <td>Philadelphia-Camden-Wilmington, PA-NJ-DE-MD</td>\n",
       "      <td>\"Mozilla/5.0 (Macintosh; Intel Mac OS X 10_9_4...</td>\n",
       "      <td>F</td>\n",
       "    </tr>\n",
       "    <tr>\n",
       "      <th>4</th>\n",
       "      <td>2018-11-11 04:36:13.796</td>\n",
       "      <td>4</td>\n",
       "      <td>11</td>\n",
       "      <td>45</td>\n",
       "      <td>11</td>\n",
       "      <td>2018</td>\n",
       "      <td>6</td>\n",
       "      <td>32</td>\n",
       "      <td>free</td>\n",
       "      <td>New York-Newark-Jersey City, NY-NJ-PA</td>\n",
       "      <td>\"Mozilla/5.0 (Windows NT 6.1; WOW64) AppleWebK...</td>\n",
       "      <td>F</td>\n",
       "    </tr>\n",
       "    <tr>\n",
       "      <th>5</th>\n",
       "      <td>2018-11-11 04:36:46.796</td>\n",
       "      <td>4</td>\n",
       "      <td>11</td>\n",
       "      <td>45</td>\n",
       "      <td>11</td>\n",
       "      <td>2018</td>\n",
       "      <td>6</td>\n",
       "      <td>75</td>\n",
       "      <td>free</td>\n",
       "      <td>Columbia, SC</td>\n",
       "      <td>\"Mozilla/5.0 (Macintosh; Intel Mac OS X 10_9_3...</td>\n",
       "      <td>M</td>\n",
       "    </tr>\n",
       "  </tbody>\n",
       "</table>\n",
       "</div>"
      ],
      "text/plain": [
       "                         start_time  hour  day  week  month  year  weekday  \\\n",
       "songplay_id                                                                  \n",
       "1           2018-11-11 02:33:56.796     2   11    45     11  2018        6   \n",
       "2           2018-11-11 02:36:10.796     2   11    45     11  2018        6   \n",
       "3           2018-11-11 02:40:34.796     2   11    45     11  2018        6   \n",
       "4           2018-11-11 04:36:13.796     4   11    45     11  2018        6   \n",
       "5           2018-11-11 04:36:46.796     4   11    45     11  2018        6   \n",
       "\n",
       "             user_id level                                     location  \\\n",
       "songplay_id                                                               \n",
       "1                 69  free  Philadelphia-Camden-Wilmington, PA-NJ-DE-MD   \n",
       "2                 69  free  Philadelphia-Camden-Wilmington, PA-NJ-DE-MD   \n",
       "3                 69  free  Philadelphia-Camden-Wilmington, PA-NJ-DE-MD   \n",
       "4                 32  free        New York-Newark-Jersey City, NY-NJ-PA   \n",
       "5                 75  free                                 Columbia, SC   \n",
       "\n",
       "                                                    user_agent gender  \n",
       "songplay_id                                                            \n",
       "1            \"Mozilla/5.0 (Macintosh; Intel Mac OS X 10_9_4...      F  \n",
       "2            \"Mozilla/5.0 (Macintosh; Intel Mac OS X 10_9_4...      F  \n",
       "3            \"Mozilla/5.0 (Macintosh; Intel Mac OS X 10_9_4...      F  \n",
       "4            \"Mozilla/5.0 (Windows NT 6.1; WOW64) AppleWebK...      F  \n",
       "5            \"Mozilla/5.0 (Macintosh; Intel Mac OS X 10_9_3...      M  "
      ]
     },
     "execution_count": 5,
     "metadata": {},
     "output_type": "execute_result"
    }
   ],
   "source": [
    "songplays.head()"
   ]
  },
  {
   "cell_type": "code",
   "execution_count": 6,
   "metadata": {},
   "outputs": [],
   "source": [
    "songplays['state'] = songplays['location'].apply(lambda x: x.split(', ')[-1])"
   ]
  },
  {
   "cell_type": "code",
   "execution_count": 8,
   "metadata": {},
   "outputs": [],
   "source": [
    "?fig.savefig"
   ]
  },
  {
   "cell_type": "code",
   "execution_count": 14,
   "metadata": {},
   "outputs": [
    {
     "data": {
      "image/png": "[encoded data removed]",
      "text/plain": [
       "<Figure size 432x288 with 1 Axes>"
      ]
     },
     "metadata": {
      "needs_background": "light"
     },
     "output_type": "display_data"
    }
   ],
   "source": [
    "fig, ax = plt.subplots(frameon=False)\n",
    "\n",
    "(songplays['hour']\n",
    " .value_counts()\n",
    " .reset_index()\n",
    " .sort_values(by='index')\n",
    " .set_index('index')\n",
    " .plot(ax=ax, kind='bar'))\n",
    "\n",
    "ax.set(xlabel='Hour', ylabel='Cnt', title='Session Frequency by Hour')\n",
    "plt.show()\n",
    "\n",
    "fig.savefig(\"images/session_frequency_by_hour.png\", transparent=False)"
   ]
  },
  {
   "cell_type": "code",
   "execution_count": 17,
   "metadata": {},
   "outputs": [],
   "source": [
    "day_of_week_dict={0:'Monday', 1:'Tuesday', 2:'Wednesday', 3:'Thursday', 4:'Friday', 5:'Saturday', 6:'Sunday'}"
   ]
  },
  {
   "cell_type": "code",
   "execution_count": 18,
   "metadata": {},
   "outputs": [
    {
     "data": {
      "image/png": "[encoded data removed]",
      "text/plain": [
       "<Figure size 432x288 with 1 Axes>"
      ]
     },
     "metadata": {
      "needs_background": "light"
     },
     "output_type": "display_data"
    }
   ],
   "source": [
    "fig, ax = plt.subplots()\n",
    "\n",
    "aa = (songplays['weekday']\n",
    " .value_counts()\n",
    " .reset_index()\n",
    " .sort_values(by='index')\n",
    ")\n",
    "aa['index'] = aa['index'].map(day_of_week_dict)\n",
    "aa = aa.set_index('index')\n",
    "aa.plot(ax=ax, kind='bar')\n",
    "\n",
    "ax.set(xlabel='Day of Week', ylabel='Cnt', title='Session Frequency by Day of Week')\n",
    "plt.xticks(rotation=45)\n",
    "plt.show()\n",
    "\n",
    "fig.savefig(\"images/session_frequency_by_weekday.png\", bbox_inches='tight')"
   ]
  },
  {
   "cell_type": "code",
   "execution_count": 19,
   "metadata": {},
   "outputs": [
    {
     "data": {
      "image/png": "[encoded data removed]",
      "text/plain": [
       "<Figure size 1080x360 with 1 Axes>"
      ]
     },
     "metadata": {
      "needs_background": "light"
     },
     "output_type": "display_data"
    }
   ],
   "source": [
    "fig, ax = plt.subplots(figsize=(15, 5))\n",
    "\n",
    "aa = songplays.groupby(by=['state', 'level'])['user_id'].count().reset_index()\n",
    "aa['perc_of_total']=  aa['user_id']/aa.groupby('level')['user_id'].transform('sum')\n",
    "\n",
    "sns.barplot(data=aa, x='state', y='perc_of_total', hue='level')\n",
    "\n",
    "ax.set(xlabel='State', ylabel='Percent of Total', title='Session Distribution by State across level')\n",
    "plt.xticks(rotation=90)\n",
    "\n",
    "plt.show()\n",
    "\n",
    "fig.savefig(\"images/session_frequency_by_state_level.png\")"
   ]
  },
  {
   "cell_type": "code",
   "execution_count": 20,
   "metadata": {},
   "outputs": [],
   "source": [
    "conn.close()"
   ]
  }
 ],
 "metadata": {
  "kernelspec": {
   "display_name": "Python 3",
   "language": "python",
   "name": "python3"
  },
  "language_info": {
   "codemirror_mode": {
    "name": "ipython",
    "version": 3
   },
   "file_extension": ".py",
   "mimetype": "text/x-python",
   "name": "python",
   "nbconvert_exporter": "python",
   "pygments_lexer": "ipython3",
   "version": "3.8.5"
  }
 },
 "nbformat": 4,
 "nbformat_minor": 1
}
